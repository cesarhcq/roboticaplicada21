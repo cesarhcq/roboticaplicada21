{
  "nbformat": 4,
  "nbformat_minor": 0,
  "metadata": {
    "colab": {
      "name": "L01 - Visao computacional.ipynb",
      "provenance": [],
      "collapsed_sections": [
        "NyvxHviMpShq"
      ],
      "toc_visible": true,
      "include_colab_link": true
    },
    "kernelspec": {
      "display_name": "Python 3",
      "language": "python",
      "name": "python3"
    },
    "language_info": {
      "codemirror_mode": {
        "name": "ipython",
        "version": 3
      },
      "file_extension": ".py",
      "mimetype": "text/x-python",
      "name": "python",
      "nbconvert_exporter": "python",
      "pygments_lexer": "ipython3",
      "version": "3.7.7"
    }
  },
  "cells": [
    {
      "cell_type": "markdown",
      "metadata": {
        "id": "view-in-github",
        "colab_type": "text"
      },
      "source": [
        "<a href=\"https://colab.research.google.com/github/cesarhcq/roboticaplicada21/blob/main/L01_Visao_computacional.ipynb\" target=\"_parent\"><img src=\"https://colab.research.google.com/assets/colab-badge.svg\" alt=\"Open In Colab\"/></a>"
      ]
    },
    {
      "cell_type": "markdown",
      "metadata": {
        "id": "b9uBe7nevota"
      },
      "source": [
        "### Introdução:\n",
        "\n",
        "Vamos utilizar a biblioteca [Numpy](https://numpy.org/doc/stable/) para a grande maioria dos cálculos dessa disciplina. É uma biblioteca totalmente aberta, gratuita e amplamente utilizada para diversas áreas. Esse [link](https://numpy.org/doc/stable/user/numpy-for-matlab-users.html) contém dicas para usuários de MATLAB se adaptarem ao numpy. Utilize-o caso seja conveniente.\n",
        "\n",
        "Vamos importá-la com um apelido de ```np```, o qual utilizaremos ao longo de toda a prática:"
      ]
    },
    {
      "cell_type": "code",
      "metadata": {
        "id": "xnKV2As4aCX1"
      },
      "source": [
        "import numpy as np"
      ],
      "execution_count": null,
      "outputs": []
    },
    {
      "cell_type": "markdown",
      "metadata": {
        "id": "ppupxqIr71zm"
      },
      "source": [
        "### 1) Criando matrizes de n-dimensões \n",
        "\n",
        "Vamos utilizar a função np.array para criar matrizes de n-dimensões \n",
        "(N-dimensional array ([ndarray](https://numpy.org/doc/stable/reference/arrays.ndarray.html#arrays-ndarray))):\n"
      ]
    },
    {
      "cell_type": "code",
      "metadata": {
        "id": "SmRKAUAm6akZ"
      },
      "source": [
        "# Array de uma dimensão (1D)\n",
        "A = np.array((1, 2))\n",
        "\n",
        "print(A)\n",
        "print(\"\\n\")\n",
        "\n",
        "# Array (2D)\n",
        "A = np.array([[1, 2], \n",
        "              [3, 4],\n",
        "              [5, 6]])\n",
        "\n",
        "print(A)\n",
        "print(\"\\n\")\n",
        "\n",
        "# As arrays podem ser criadas utilizando \n",
        "# tanto parêntese quanto colchetes\n",
        "B = np.array(((1., 2.0), \n",
        "              (3, 4),\n",
        "              (5, 6)))\n",
        "\n",
        "print(B)\n",
        "print(\"\\n\")"
      ],
      "execution_count": null,
      "outputs": []
    },
    {
      "cell_type": "markdown",
      "metadata": {
        "id": "dUOtV__L8h6n"
      },
      "source": [
        "### 2) Classes de dados\n",
        "\n",
        "Note que na célula anterior a matriz *A* e *B* são diferentes quanto a classe de dados. A matriz *A* contém números inteiros, já a matriz *B* contém números com casa decimais. \n",
        "\n",
        "As diferentes classes de dados utilizadas na biblioteca numpy podem ser encontradas [aqui](https://numpy.org/doc/stable/user/basics.types.html).\n",
        "\n",
        "Vamos analisar isso:"
      ]
    },
    {
      "cell_type": "code",
      "metadata": {
        "id": "UTXJYHux9XCu"
      },
      "source": [
        "# Mostra o tipo de classe que o objeto A pertence\n",
        "print(type(A))\n",
        "\n",
        "# Mostra a classe em que os dados de A pertencem (int, float, double, etc)\n",
        "print(A.dtype)\n",
        "\n",
        "print(\"Dados da matriz B com tipo: %s\" % B.dtype)\n",
        "\n",
        "# Conversão para outro tipo de dado. Pode ser passado como uma string ou um dtype\n",
        "C = A.astype(np.float32)  # Argumento como dtype\n",
        "\n",
        "print(\"Dados da matriz C com tipo: %s\" % C.dtype)\n",
        "\n",
        "D = B.astype(\"uint16\")    # Argumento como string\n",
        "\n",
        "print(\"Dados da matriz D com tipo: %s\" % D.dtype)\n",
        "\n",
        "# Também é possível fazer a conversão passando os dados como argumento para o \n",
        "# objeto da classe que deseja fazer a conversão\n",
        "E = np.double(C)\n",
        "\n",
        "print(\"Dados da matriz E com tipo: %s\" % E.dtype)"
      ],
      "execution_count": null,
      "outputs": []
    },
    {
      "cell_type": "markdown",
      "metadata": {
        "id": "LfvvkPYKCNgV"
      },
      "source": [
        "### 3) Indexando matrizes\n",
        "\n",
        "Agora vamos estudar como extrair dados de uma matriz ou substituir os lá existentes. O acesso às *arrays* se da por meio de indexação (*indexing*) ou também chamado de *slicing*. \n",
        "\n",
        "Mais informações sobre os vários tipos de indexação você pode encontrar neste [link](https://numpy.org/doc/stable/reference/arrays.indexing.html). [Aqui](https://numpy.org/doc/stable/reference/arrays.indexing.html#advanced-indexing) estão alguns tipos de indexação avançado.\n",
        "\n",
        "Vamos ver alguns tipos básicos de indexação:"
      ]
    },
    {
      "cell_type": "code",
      "metadata": {
        "id": "xOjlCnNaCOIO"
      },
      "source": [
        "A = np.array([[1 , 2 , 3 , 4 , 5 ], \n",
        "              [6 , 7 , 8 , 9 , 10],\n",
        "              [11, 12, 13, 14, 15],\n",
        "              [16, 17, 18, 19, 20]], dtype=np.int16)\n",
        "\n",
        "# Mostrando a matriz A\n",
        "print(A)\n",
        "print(\"\\n\")\n",
        "\n",
        "# Para selecionar um determinado elemento da matriz deve-se utilizar:\n",
        "# A[i,j] sendo i número da linha e j o número da coluna com i,j = 0, ...n-1\n",
        "# Ex.: Elemento da linha 2 e coluna 3:\n",
        "print(A[1,2])\n",
        "print(\"\\n\")\n",
        "\n",
        "# Usa-se dois pontos (:) para significar “todos” ou “até”.\n",
        "# Ex.: Todos os elementos da quarta coluna:\n",
        "print(A[:,3])\n",
        "print(\"\\n\")\n",
        "\n",
        "# Ex.: Todos os elementos da primeira linha:\n",
        "print(A[0,:])\n",
        "print(\"\\n\")\n",
        "\n",
        "# Ex.: Todos os elementos da linha 1 até a linha 3 e da coluna 3 até a coluna 4:\n",
        "print(A[0:3,2:4])\n",
        "print(\"\\n\")\n",
        "\n",
        "# Ex.: Fazer todos os elementos da coluna 2 iguais a zero:\n",
        "B = A.copy()\n",
        "B[:,1] = 0\n",
        "print(B[:,1])\n",
        "print(\"\\n\")\n",
        "\n",
        "# Ex.: O elemento da última linha e última coluna:\n",
        "print(A[-1,-1])\n",
        "print(\"\\n\")\n",
        "\n",
        "# Ex.: Todos os elementos da última coluna:\n",
        "print(A[:,-1])\n",
        "print(\"\\n\")\n",
        "\n",
        "# Ex.: O elemento da última linha e primeira coluna antes da última:\n",
        "print(A[-1,-2])\n",
        "print(\"\\n\")\n",
        "\n",
        "# Ex.: Os elementos da linha 2 até a última linha e da última coluna até a segunda coluna com passo de –2:\n",
        "print(A[1:,-1:1:-2])\n",
        "print(\"\\n\")\n",
        "\n",
        "# Ex.: Matriz transposta de A\n",
        "print(A.transpose())"
      ],
      "execution_count": null,
      "outputs": []
    },
    {
      "cell_type": "markdown",
      "metadata": {
        "id": "Qshvw1B3vGZB"
      },
      "source": [
        "### 4) Propriedades das matrizes\n",
        "\n",
        "Nesta célula vamos estudar como extrair algumas propriedades da matriz, bem como executar algumas operações básicas na mesma. \n",
        "\n",
        "Algumas operações são feitas ao longo dos eixos da matriz. Veja abaixo a definição de eixos extraída da documentação."
      ]
    },
    {
      "cell_type": "code",
      "metadata": {
        "id": "CNTSIDbHvNpF"
      },
      "source": [
        "''' \n",
        "\n",
        "Definição de axis: \"Os eixos são definidos para matrizes com mais de uma \n",
        "dimensão. Uma matriz bidimensional tem dois eixos correspondentes: o primeiro \n",
        "executando verticalmente para baixo nas linhas (eixo 0) e o segundo executando \n",
        "horizontalmente nas colunas (eixo 1).\"\n",
        "\n",
        "Ref: https://numpy.org/doc/stable/glossary.html?highlight=axis#glossary\n",
        "\n",
        "''' \n",
        "\n",
        "### ----- Propriedades da matriz -----\n",
        "# Número de linhas e colunas de uma matriz (2D neste exemplo)\n",
        "M, N = A.shape\n",
        "print(\"Nossa matriz A tem o formato de:{}, com {} linhas e {} colunas.\".format(A.shape,M,N))\n",
        "\n",
        "# Número total de elementos da matriz\n",
        "MxN = A.size\n",
        "print(\"Nossa matriz possui um total de %d elementos.\" % (MxN))\n",
        "\n",
        "### ----- Operações -----\n",
        "# Ex.: Vetor mostrando os valores máximos de cada coluna de uma matriz:\n",
        "print(np.max(A, axis=0))\n",
        "\n",
        "# Ex.: Valor máximo de uma matriz:\n",
        "print(np.max(A))    # Alternativa: A.max()\n",
        "\n",
        "# Ex.: Vetor mostrando os valores mínimos de cada coluna de uma matriz:\n",
        "print(np.min(A, axis=0))\n",
        "\n",
        "# Ex.: Valor mínimo de uma matriz:\n",
        "print(np.min(A))    # Alternativa: A.min()\n",
        "\n",
        "# Ex.: Soma dos elementos ao longo das linhas\n",
        "print(np.sum(A, axis=1))\n",
        "\n",
        "# Ex.: Soma de todos os elementos da matriz\n",
        "print(np.sum(A))    # Alternativa: A.sum()\n",
        "\n",
        "# Ex.: Média dos elementos ao longo das colunas\n",
        "print(np.mean(A, axis=0)) \n",
        "\n",
        "# Ex.: Média de toda a matriz\n",
        "print(np.mean(A))   # Alternativa: A.mean()\n",
        "\n",
        "# Ex.: Variância dos elementos ao longo das colunas\n",
        "print(np.var(A, ddof=1, axis=0)) \n",
        "\n",
        "# Ex.: Variância de toda a matriz\n",
        "print(np.var(A, ddof=1))   # Alternativa: A.var(ddof=1)"
      ],
      "execution_count": null,
      "outputs": []
    },
    {
      "cell_type": "markdown",
      "metadata": {
        "id": "rDwo0okoXiKx"
      },
      "source": [
        "Se deseja obter uma descrição do funcionamento da função, pode utilizar o comando `help()`.\n",
        "\n",
        "Por exemplo:\n",
        "`help(np.max)`"
      ]
    },
    {
      "cell_type": "markdown",
      "metadata": {
        "id": "vvjeTeXK4b5H"
      },
      "source": [
        "### 5) Imagens\n",
        "\n",
        "As imagens nada mais são do que matrizes. Cada pixel está relacionado com uma posição A[i,j] da matriz, tal que ```0 < i < M-1``` e ```0 < j < N-1```. Em cada tipo de imagem, seu valor de pixel tem uma representação específica, como por exemplo:\n",
        "\n",
        "1. **Imagens de Intensidades:** É uma matriz de dados cujos valores representam as intensidades em cada ponto. Se os elementos de intensidade forem da classe ```uint8``` seus valores estarão no intervalo ```[0, 255]```. Se forem da classe ```uint16``` seus valores variarão no intervalo ```[0, 65535]```.\n",
        "\n",
        "2. **Imagens RGB:** É composta por 3 matrizes de dados, onde cada matriz é responsável por armazenar as informações de intensidades cada canal: R (red - vermelho), G (green - verde) ou B (blue - azul).\n",
        "\n",
        "2. **Imagens Binárias:** É um arranjo lógico de zeros e uns onde os dados são da classe ```logical```.\n",
        "\n",
        "Vamos aprender a ler imagens de arquivos, mostrá-las e processá-las. Para a leitura e exibição dessas imagens, utilizaremos as biblioteca [Matplotlib](https://matplotlib.org).\n",
        "\n",
        "Vamos importar um módulo dela com o apelido ```plt```. O ```matplotlib.pyplot``` é uma coleção de funções que fazem o ```matplotlib``` funcionar como o MATLAB."
      ]
    },
    {
      "cell_type": "code",
      "metadata": {
        "id": "Msb7mnuwcmsm"
      },
      "source": [
        "import matplotlib.pyplot as plt"
      ],
      "execution_count": null,
      "outputs": []
    },
    {
      "cell_type": "code",
      "metadata": {
        "id": "WCaKcMx5eU0e"
      },
      "source": [
        "# Vamos criar uma matriz com vários elementos\n",
        "E = np.array([[0, 5, 10, 15, 20, 25, 30, 35, 40, 45, 50, 55, 60, 65, 70, 75, 80, 85, 90, 95, 100],\n",
        "              [0, 5, 10, 15, 20, 25, 30, 35, 40, 45, 50, 55, 60, 65, 70, 75, 80, 85, 90, 95, 100],\n",
        "              [0, 5, 10, 15, 20, 25, 30, 35, 40, 45, 50, 55, 60, 65, 70, 75, 80, 85, 90, 95, 100],\n",
        "              [0, 5, 10, 15, 20, 25, 30, 35, 40, 45, 50, 55, 60, 65, 70, 75, 80, 85, 90, 95, 100],\n",
        "              [0, 5, 10, 15, 20, 25, 30, 35, 40, 45, 50, 55, 60, 65, 70, 75, 80, 85, 90, 95, 100],\n",
        "              [0, 5, 10, 15, 20, 25, 30, 35, 40, 45, 50, 55, 60, 65, 70, 75, 80, 85, 90, 95, 100],\n",
        "              [0, 5, 10, 15, 20, 25, 30, 35, 40, 45, 50, 55, 60, 65, 70, 75, 80, 85, 90, 95, 100],\n",
        "              [0, 5, 10, 15, 20, 25, 30, 35, 40, 45, 50, 55, 60, 65, 70, 75, 80, 85, 90, 95, 100],\n",
        "              [0, 5, 10, 15, 20, 25, 30, 35, 40, 45, 50, 55, 60, 65, 70, 75, 80, 85, 90, 95, 100],\n",
        "              [0, 5, 10, 15, 20, 25, 30, 35, 40, 45, 50, 55, 60, 65, 70, 75, 80, 85, 90, 95, 100],\n",
        "              [0, 5, 10, 15, 20, 25, 30, 35, 40, 45, 50, 55, 60, 65, 70, 75, 80, 85, 90, 95, 100],\n",
        "              [0, 5, 10, 15, 20, 25, 30, 35, 40, 45, 50, 55, 60, 65, 70, 75, 80, 85, 90, 95, 100],\n",
        "              [0, 5, 10, 15, 20, 25, 30, 35, 40, 45, 50, 55, 60, 65, 70, 75, 80, 85, 90, 95, 100],\n",
        "              [0, 5, 10, 15, 20, 25, 30, 35, 40, 45, 50, 55, 60, 65, 70, 75, 80, 85, 90, 95, 100],\n",
        "              [0, 5, 10, 15, 20, 25, 30, 35, 40, 45, 50, 55, 60, 65, 70, 75, 80, 85, 90, 95, 100],\n",
        "              [0, 5, 10, 15, 20, 25, 30, 35, 40, 45, 50, 55, 60, 65, 70, 75, 80, 85, 90, 95, 100]], dtype=np.uint8)\n",
        "\n",
        "# Agora vamos mostrar essa imagem. Já que nossos dados são do tipo uint8, \n",
        "# ou seja, seus valores vão de 0 a 255\n",
        "plt.imshow(E, cmap='gray');\n",
        "\n",
        "# Por quê então a imagem foi mostrada corretamente, já que nossos valores\n",
        "# vão de 0 a 100?"
      ],
      "execution_count": null,
      "outputs": []
    },
    {
      "cell_type": "code",
      "metadata": {
        "id": "fyYXiSqGe1Hh"
      },
      "source": [
        "# Isso acontece pois a função já normaliza os valores de entrada para que o \n",
        "# colormap cubra todos os valores. Segue a definição tirada do manual:\n",
        "\n",
        "''' \n",
        "\"Por padrão, o mapa de cores cobre todo o intervalo de valores dos dados\n",
        "fornecidos.\"\n",
        "'''\n",
        "\n",
        "# Para definirmos o intervalo de dados que o mapa de cores irá cobrir,\n",
        "# devemos ajustar os parâmetros de vmin e vmax:\n",
        "\n",
        "\n",
        "plt.imshow(E, cmap='gray', vmin=0, vmax=255);\n",
        "\n",
        "# Os parâmetros de vmin e vmax especificam os limites dos valores de branco\n",
        "# e preto. O parâmetro vmin (e qualquer valor menor do que ele) corresponde\n",
        "# ao preto; o parâmetro vmax (e qualquer valor maior do que ele) é mostrado\n",
        "# como branco. Valores intermediários são mostrados em escala de cinza, usando\n",
        "# o número padrão de níveis.\n",
        "\n",
        "# Agora ficou como imaginamos inicialmente."
      ],
      "execution_count": null,
      "outputs": []
    },
    {
      "cell_type": "code",
      "metadata": {
        "id": "UaqipfPpmtqo"
      },
      "source": [
        "# Podemos ajustar para qualquer valor:\n",
        "plt.imshow(E, cmap='gray', vmin=25, vmax=55);"
      ],
      "execution_count": null,
      "outputs": []
    },
    {
      "cell_type": "markdown",
      "metadata": {
        "id": "NyvxHviMpShq"
      },
      "source": [
        "**Atenção**: As imagens para inserir nos códigos a seguir, devem ser feitas manualmente, isto é, baixem algumas imagens disponíveis na internet e não esqueçam de mudar o nome das que já estão abaixo."
      ]
    },
    {
      "cell_type": "markdown",
      "metadata": {
        "id": "GHX9Y9sfpbmd"
      },
      "source": [
        "### 6) Leitura de imagens\n",
        "\n",
        "As imagens para essa prática se encontram no diretório do *Github*. As mesmas são baixadas através das linhas de código anteriores e já se encontram no diretório local (caso o *dowload* tenha dado certo).\n",
        "\n",
        "Agora aprenderemos como ler essas imagens que estão armazenadas nos arquivos. Continuaremos a utilizar o ```matplotlib```:\n"
      ]
    },
    {
      "cell_type": "code",
      "metadata": {
        "id": "mw4YSy8cpg56"
      },
      "source": [
        "# Vamos carregar a imagem para a variável img\n",
        "img1 = plt.imread(\"rose_gray.tif\")\n",
        "\n",
        "# Note que temos uma variável da classe np.ndarray, ou seja, nossa imagem \n",
        "# já é uma matriz.\n",
        "print(type(img1))\n",
        "\n",
        "# Assim como anteriormente, podemos analisar o número de linhas e colunas \n",
        "# de nossa imagem (matriz 2D)\n",
        "M, N = img1.shape\n",
        "print(\"Nossa imagem tem {} linhas e {} colunas.\".format(M,N))\n",
        "\n",
        "# Agora vamos mostrá-la:\n",
        "plt.imshow(img1, cmap='gray');\n",
        "\n",
        "# Mas professor, como eu sei que a imagem que estou lendo é RGB ou uma imagem de \n",
        "# intensidades? R: Mostra o formato dela. Se ela tiver 2 dimensões, então é uma \n",
        "# imagem de intensidades. Se tiver 3, é uma imagem RGB.\n",
        "\n",
        "print(img1.shape)"
      ],
      "execution_count": null,
      "outputs": []
    },
    {
      "cell_type": "code",
      "metadata": {
        "id": "YSpA16ODqpow"
      },
      "source": [
        "# Vamos carregar uma segunda imagem para a variável img2\n",
        "img2 = plt.imread(\"bubbles.jpg\")\n",
        "\n",
        "# Ok, a imagem tem 2 dimensões:\n",
        "print(img2.shape)\n",
        "\n",
        "# Vamos mostrá-la:\n",
        "plt.imshow(img2);\n",
        "\n",
        "# Mas por quê ela ficou colorida? R: Este é o colormap padrão ao utilizar \n",
        "# o plt.imshow. Você deve especificar cmap='gray' caso queira que ela seja\n",
        "# em níveis de cinza."
      ],
      "execution_count": null,
      "outputs": []
    },
    {
      "cell_type": "markdown",
      "metadata": {
        "id": "Ic8w4ULovXOB"
      },
      "source": [
        "### 7) Indexando imagens\n",
        "\n",
        "Como imagens são matrizes, os esquemas de indexação de matrizes podem ser usados diretamente nas imagens.\n",
        "\n",
        "O arquivo ```'chestxray_gray.jpg'``` é uma imagem em nível de cinza de ```8 bits```, classe ```uint8```, tamanho de ```206 x 499``` pixels. Digitar os comandos e verificar o que cada esquema de indexação faz. Explique e comente os resultados de cada um deles."
      ]
    },
    {
      "cell_type": "code",
      "metadata": {
        "id": "z0qpT3pltoAx"
      },
      "source": [
        "# Vamos carregar uma terceira imagem para a variável img3\n",
        "img3 = plt.imread(\"chestxray_gray.jpg\")\n",
        "\n",
        "# Vamos analisar seu tipo. Ela é de fato uint8?\n",
        "print(img3.dtype)\n",
        "\n",
        "# Vamos praticar alguns slicings e analisar seus resultados\n",
        "fp = img3[-1:0:-2, :]\n",
        "fl = img3[:, -1:0:-4]\n",
        "fc = img3[16:168,401:223:-1]\n",
        "fs = img3[0:-1:2, 0:-1:2]\n",
        "\n",
        "# Vamos mostrar o resultado\n",
        "plt.imshow(fp,'gray');"
      ],
      "execution_count": null,
      "outputs": []
    },
    {
      "cell_type": "markdown",
      "metadata": {
        "id": "mquoqgH9xphG"
      },
      "source": [
        "### 8) Arranjos padrões\n",
        "\n",
        "O Numpy pode gerar arranjos padrões que são úteis em diversas aplicações:\n",
        "\n",
        "*   [np.zeros](https://numpy.org/doc/stable/reference/generated/numpy.zeros.html) - matriz de zeros;\n",
        "*   [np.ones](https://numpy.org/doc/stable/reference/generated/numpy.ones.html) - matriz de uns;\n",
        "*   [np.rand](https://numpy.org/doc/stable/reference/random/generated/numpy.random.rand.html) - matriz de números aleatórios uniformemente distribuídos no intervalo ```[0,1]```;\n",
        "*   [np.randn](https://numpy.org/doc/stable/reference/random/generated/numpy.random.randn.html) - matriz de números aleatórios normalmente distribuídos **(Gaussiana)** com média 0 e variância 1.\n",
        "\n",
        "Tanto ```np.rand``` quanto o ```np.randn``` foram feitos pensando nos usuários vindos do MATLAB. As funçōes ```np.random.sample``` e ```np.random.standard_normal``` desenvolvem o mesmo papel e seus argumentos são mais aproximadas ao estilo python."
      ]
    },
    {
      "cell_type": "code",
      "metadata": {
        "id": "ijF5-HwJvxAv"
      },
      "source": [
        "A = np.zeros(shape=(5,5))\n",
        "print(A)\n",
        "print(\"\\n\")\n",
        "\n",
        "A = np.ones(shape=(5,5))\n",
        "print(A)\n",
        "print(\"\\n\")\n",
        "\n",
        "A = np.random.rand(3,3)\n",
        "print(A)\n",
        "print(\"\\n\")\n",
        "\n",
        "A = np.random.randn(3,3)\n",
        "print(A)\n",
        "print(\"\\n\")\n",
        "\n",
        "# Teste as funções:\n",
        "# np.random.standard_normal(size=(2,2))\n",
        "# np.random.sample(size=(2,2))"
      ],
      "execution_count": null,
      "outputs": []
    },
    {
      "cell_type": "markdown",
      "metadata": {
        "id": "OcMh8xfE_EDX"
      },
      "source": [
        "### 9) Exercício\n",
        "\n",
        "1. Crie uma matriz ```800x800```, no qual seus dados são do tipo ```float32``` e seus valores seguem uma distribuição normal com média ```0``` e variância ```1```.\n",
        "\n",
        "2. Calcule a média, variância, valor máximo, valor mínimo dessa matriz e mostre na tela os resultados.\n",
        "\n",
        "3. Agora, retire de qualquer parte dessa matriz uma região de tamanho ```263x264``` e atribua para uma variável chamada ruido. Multiplique essa variável por 25, atribuindo o resultado a ela mesma. Agora some esse ruído com a imagem 1 (rosa) e mostre o resultado na tela.\n",
        "\n",
        "4. Por fim, retire o pixel da interseção entre a última coluna e a linha central da imagem com e sem ruído, e mostre seu resultado na tela da seguinte forma ```\"O Pixel ruidoso [X,X] tem o valor de: XX\"``` e ```\"O Pixel sem ruido [X,X] tem o valor de: XX\"```.\n",
        "\n",
        "Obs: Comente os resultados!"
      ]
    }
  ]
}